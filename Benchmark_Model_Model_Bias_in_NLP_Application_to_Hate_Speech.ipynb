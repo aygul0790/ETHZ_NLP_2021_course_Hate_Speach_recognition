{
  "nbformat": 4,
  "nbformat_minor": 0,
  "metadata": {
    "colab": {
      "name": "Model Bias in NLP - Application to Hate Speech - Benchmark Model",
      "provenance": [],
      "collapsed_sections": [
        "DTF4O-GZK19H",
        "kWsoIoDVMECg",
        "1xDuWdZpMIx7",
        "oWfd3mQANGzd",
        "LvpEQ5ZmNM10",
        "ZpA-FomdNOxQ",
        "O45jscRebn8C",
        "JYtPbTKI063S",
        "SYrOLjuIQtX5"
      ]
    },
    "kernelspec": {
      "name": "python3",
      "display_name": "Python 3"
    },
    "language_info": {
      "name": "python"
    },
    "accelerator": "GPU"
  },
  "cells": [
    {
      "cell_type": "markdown",
      "metadata": {
        "id": "89qx8WuTYl_B"
      },
      "source": [
        "# Model Bias in NLP - Application to Hate Speech - Benchmark Models\n",
        "\n",
        "---\n",
        "\n"
      ]
    },
    {
      "cell_type": "markdown",
      "metadata": {
        "id": "p6zgrOMthsVK"
      },
      "source": [
        "# Import of Libraries and Kaggle Dataset"
      ]
    },
    {
      "cell_type": "code",
      "metadata": {
        "id": "Pzm7BmdgYfkf"
      },
      "source": [
        "from keras.preprocessing.text import text_to_word_sequence\n",
        "from keras.preprocessing.text import Tokenizer  \n",
        "from keras.layers import Input, Dense, Embedding, SpatialDropout1D, Dropout, add, concatenate\n",
        "from keras.preprocessing.sequence import pad_sequences\n",
        "from keras.models import Sequential\n",
        "from keras.layers import LSTM, Bidirectional, GRU, Dropout,Embedding ,Dense, GlobalAveragePooling1D, GlobalMaxPooling1D\n",
        "import pandas as pd\n",
        "from keras.models import Model\n",
        "import numpy as np\n",
        "import matplotlib.pyplot as plt\n",
        "from sklearn.model_selection import train_test_split\n",
        "import os\n",
        "import pickle\n",
        "import tensorflow_datasets as tfds\n",
        "import tensorflow as tf"
      ],
      "execution_count": 1,
      "outputs": []
    },
    {
      "cell_type": "code",
      "metadata": {
        "id": "X3l2V3IKZgYS",
        "colab": {
          "base_uri": "https://localhost:8080/"
        },
        "outputId": "2eb26419-6676-4db3-f385-4dee09f5a0a7"
      },
      "source": [
        "# Download Kaggle Dataset via the Kaggle API\n",
        "\n",
        "kaggle_api = {\"username\":\"bojonas\",\"key\":\"1b3903e6a0f6c0bb4c684ade1e291321\"}\n",
        "\n",
        "import json\n",
        "with open('/content/kaggle.json', 'w') as file:\n",
        "    json.dump(kaggle_api, file)\n",
        "\n",
        "!chmod 600 /content/kaggle.json\n",
        "os.environ['KAGGLE_CONFIG_DIR'] = \"/content\"\n",
        "\n",
        "!kaggle competitions download -c jigsaw-unintended-bias-in-toxicity-classification\n",
        "\n",
        "!unzip \\*.zip  && rm *.zip"
      ],
      "execution_count": null,
      "outputs": [
        {
          "output_type": "stream",
          "text": [
            "Warning: Looks like you're using an outdated API Version, please consider updating (server 1.5.12 / client 1.5.4)\n",
            "Downloading toxicity_individual_annotations.csv.zip to /content\n",
            " 93% 60.0M/64.7M [00:03<00:00, 10.7MB/s]\n",
            "100% 64.7M/64.7M [00:03<00:00, 18.7MB/s]\n",
            "Downloading test_public_expanded.csv.zip to /content\n",
            " 57% 9.00M/15.9M [00:00<00:00, 12.3MB/s]\n",
            "100% 15.9M/15.9M [00:00<00:00, 19.9MB/s]\n",
            "Downloading test.csv.zip to /content\n",
            " 74% 9.00M/12.1M [00:01<00:00, 7.08MB/s]\n",
            "100% 12.1M/12.1M [00:01<00:00, 8.67MB/s]\n",
            "Downloading sample_submission.csv.zip to /content\n",
            "  0% 0.00/224k [00:00<?, ?B/s]\n",
            "100% 224k/224k [00:00<00:00, 21.0MB/s]\n",
            "Downloading train.csv.zip to /content\n",
            " 98% 270M/276M [00:11<00:00, 25.3MB/s]\n",
            "100% 276M/276M [00:11<00:00, 24.4MB/s]\n",
            "Downloading identity_individual_annotations.csv.zip to /content\n",
            " 73% 9.00M/12.3M [00:01<00:00, 7.47MB/s]\n",
            "100% 12.3M/12.3M [00:01<00:00, 8.21MB/s]\n",
            "Downloading test_private_expanded.csv.zip to /content\n",
            " 95% 15.0M/15.8M [00:01<00:00, 5.59MB/s]\n",
            "100% 15.8M/15.8M [00:01<00:00, 11.3MB/s]\n",
            "Downloading all_data.csv.zip to /content\n",
            " 97% 316M/326M [00:10<00:00, 19.8MB/s]\n",
            "100% 326M/326M [00:10<00:00, 32.2MB/s]\n",
            "Archive:  identity_individual_annotations.csv.zip\n",
            "  inflating: identity_individual_annotations.csv  \n",
            "\n",
            "Archive:  test_public_expanded.csv.zip\n",
            "  inflating: test_public_expanded.csv  \n",
            "\n",
            "Archive:  all_data.csv.zip\n",
            "  inflating: all_data.csv            \n",
            "\n",
            "Archive:  sample_submission.csv.zip\n",
            "  inflating: sample_submission.csv   \n",
            "\n",
            "Archive:  test_private_expanded.csv.zip\n",
            "  inflating: test_private_expanded.csv  \n",
            "\n",
            "Archive:  test.csv.zip\n",
            "  inflating: test.csv                \n",
            "\n",
            "Archive:  train.csv.zip\n",
            "  inflating: train.csv               \n",
            "\n",
            "Archive:  toxicity_individual_annotations.csv.zip\n",
            "  inflating: toxicity_individual_annotations.csv  \n",
            "\n",
            "8 archives were successfully processed.\n"
          ],
          "name": "stdout"
        }
      ]
    },
    {
      "cell_type": "markdown",
      "metadata": {
        "id": "BsQ2JOHzkeCG"
      },
      "source": [
        "# Data Exploration"
      ]
    },
    {
      "cell_type": "code",
      "metadata": {
        "id": "WipKSWhJek5S",
        "colab": {
          "base_uri": "https://localhost:8080/"
        },
        "outputId": "498bbfc3-0297-4e90-e4c1-c1d8a5039d56"
      },
      "source": [
        "# Read training data and sample it to 600'000 samples\n",
        "\n",
        "train = pd.read_csv(\"/content/train.csv\")\n",
        "\n",
        "train = train.head(600000)\n",
        "\n",
        "data = train[[\"comment_text\", \"target\"]]\n",
        "\n",
        "data.shape"
      ],
      "execution_count": null,
      "outputs": [
        {
          "output_type": "execute_result",
          "data": {
            "text/plain": [
              "(600000, 2)"
            ]
          },
          "metadata": {
            "tags": []
          },
          "execution_count": 15
        }
      ]
    },
    {
      "cell_type": "code",
      "metadata": {
        "id": "8mP4eCYrjot2",
        "colab": {
          "base_uri": "https://localhost:8080/",
          "height": 335
        },
        "outputId": "2f7ec8b4-db7f-4db7-9ea4-09406ed749d3"
      },
      "source": [
        "plt.hist(data[\"target\"])"
      ],
      "execution_count": null,
      "outputs": [
        {
          "output_type": "execute_result",
          "data": {
            "text/plain": [
              "(array([422360.,  52829.,  55987.,   1941.,  18798.,  23931.,   8842.,\n",
              "          4891.,   7312.,   3109.]),\n",
              " array([0. , 0.1, 0.2, 0.3, 0.4, 0.5, 0.6, 0.7, 0.8, 0.9, 1. ]),\n",
              " <a list of 10 Patch objects>)"
            ]
          },
          "metadata": {
            "tags": []
          },
          "execution_count": 16
        },
        {
          "output_type": "display_data",
          "data": {
            "image/png": "[encoded data removed]",
            "text/plain": [
              "<Figure size 432x288 with 1 Axes>"
            ]
          },
          "metadata": {
            "tags": [],
            "needs_background": "light"
          }
        }
      ]
    },
    {
      "cell_type": "markdown",
      "metadata": {
        "id": "oLBufIaXk3ah"
      },
      "source": [
        "# Text Cleaning/Preprocessing"
      ]
    },
    {
      "cell_type": "code",
      "metadata": {
        "id": "BQru05enk5mO",
        "colab": {
          "base_uri": "https://localhost:8080/"
        },
        "outputId": "77311a1e-445d-4f94-9325-9ea579240936"
      },
      "source": [
        "# Source: https://www.kaggle.com/raisulju/jigsaw-unintended-bias-eda-preprocessing\n",
        "\n",
        "from bs4 import BeautifulSoup # Text Cleaning\n",
        "import re, string # Regular Expressions, String\n",
        "import nltk\n",
        "from nltk.corpus import stopwords # stopwords\n",
        "from nltk.stem.porter import PorterStemmer # for word stemming\n",
        "from nltk.stem import WordNetLemmatizer # for word lemmatization\n",
        "import unicodedata\n",
        "import html\n",
        "\n",
        "nltk.download('stopwords')\n",
        "nltk.download('wordnet')\n",
        "\n",
        "# set of stopwords to be removed from text\n",
        "stop = set(stopwords.words('english'))\n",
        "\n",
        "# update stopwords to have punctuation too\n",
        "stop.update(list(string.punctuation))\n",
        "\n",
        "def clean_text(text):\n",
        "    \n",
        "    # Remove unwanted html characters\n",
        "    re1 = re.compile(r'  +')\n",
        "    x1 = text.lower().replace('#39;', \"'\").replace('amp;', '&').replace('#146;', \"'\").replace(\n",
        "    'nbsp;', ' ').replace('#36;', '$').replace('\\\\n', \"\\n\").replace('quot;', \"'\").replace(\n",
        "    '<br />', \"\\n\").replace('\\\\\"', '\"').replace('<unk>', 'u_n').replace(' @.@ ', '.').replace(\n",
        "    ' @-@ ', '-').replace('\\\\', ' \\\\ ')\n",
        "    text = re1.sub(' ', html.unescape(x1))\n",
        "    \n",
        "    # remove non-ascii characters\n",
        "    text = unicodedata.normalize('NFKD', text).encode('ascii', 'ignore').decode('utf-8', 'ignore')\n",
        "    \n",
        "    # remove between square brackets\n",
        "    text = re.sub('\\[[^]]*\\]', '', text)\n",
        "    \n",
        "    # remove URLs\n",
        "    text = re.sub(r'http\\S+', '', text)\n",
        "    \n",
        "    # remove twitter tags\n",
        "    text = text.replace(\"@\", \"\")\n",
        "    \n",
        "    # remove hashtags\n",
        "    text = text.replace(\"#\", \"\")\n",
        "    \n",
        "    # remove all non-alphabetic characters\n",
        "    text = re.sub(r'[^a-zA-Z ]', '', text)\n",
        "    \n",
        "    # remove stopwords from text\n",
        "    final_text = []\n",
        "    for word in text.split():\n",
        "        if word.strip().lower() not in stop:\n",
        "            final_text.append(word.strip().lower())\n",
        "    \n",
        "    text = \" \".join(final_text)\n",
        "    \n",
        "    # lemmatize words\n",
        "    lemmatizer = WordNetLemmatizer()    \n",
        "    text = \" \".join([lemmatizer.lemmatize(word) for word in text.split()])\n",
        "    text = \" \".join([lemmatizer.lemmatize(word, pos = 'v') for word in text.split()])\n",
        "    \n",
        "    # replace all numbers with \"num\"\n",
        "    text = re.sub(\"\\d\", \"num\", text)\n",
        "    \n",
        "    return text.lower()"
      ],
      "execution_count": null,
      "outputs": [
        {
          "output_type": "stream",
          "text": [
            "[nltk_data] Downloading package stopwords to /root/nltk_data...\n",
            "[nltk_data]   Package stopwords is already up-to-date!\n",
            "[nltk_data] Downloading package wordnet to /root/nltk_data...\n",
            "[nltk_data]   Package wordnet is already up-to-date!\n"
          ],
          "name": "stdout"
        }
      ]
    },
    {
      "cell_type": "code",
      "metadata": {
        "id": "vDv-eSNhlkri",
        "colab": {
          "base_uri": "https://localhost:8080/"
        },
        "outputId": "f01b30a8-58ba-4cea-8cd4-471df24d645b"
      },
      "source": [
        "data['clean_comment_text'] = data[\"comment_text\"].apply(clean_text)"
      ],
      "execution_count": null,
      "outputs": [
        {
          "output_type": "stream",
          "text": [
            "/usr/local/lib/python3.7/dist-packages/ipykernel_launcher.py:1: SettingWithCopyWarning: \n",
            "A value is trying to be set on a copy of a slice from a DataFrame.\n",
            "Try using .loc[row_indexer,col_indexer] = value instead\n",
            "\n",
            "See the caveats in the documentation: https://pandas.pydata.org/pandas-docs/stable/user_guide/indexing.html#returning-a-view-versus-a-copy\n",
            "  \"\"\"Entry point for launching an IPython kernel.\n"
          ],
          "name": "stderr"
        }
      ]
    },
    {
      "cell_type": "markdown",
      "metadata": {
        "id": "z8GJr8A0oGS8"
      },
      "source": [
        "# Sequence Length Analysis"
      ]
    },
    {
      "cell_type": "code",
      "metadata": {
        "id": "nQsRU5Q0oJnH",
        "colab": {
          "base_uri": "https://localhost:8080/",
          "height": 355
        },
        "outputId": "0b2e04b4-2d61-4442-99d5-55bebcf867be"
      },
      "source": [
        "plt.hist(list(data['clean_comment_text'].str.split().map(lambda x: len(x))))"
      ],
      "execution_count": null,
      "outputs": [
        {
          "output_type": "execute_result",
          "data": {
            "text/plain": [
              "(array([2.88366e+05, 1.43531e+05, 7.33950e+04, 3.80090e+04, 3.70110e+04,\n",
              "        1.94430e+04, 2.35000e+02, 1.00000e+00, 7.00000e+00, 2.00000e+00]),\n",
              " array([  0. ,  17.4,  34.8,  52.2,  69.6,  87. , 104.4, 121.8, 139.2,\n",
              "        156.6, 174. ]),\n",
              " <a list of 10 Patch objects>)"
            ]
          },
          "metadata": {
            "tags": []
          },
          "execution_count": 19
        },
        {
          "output_type": "display_data",
          "data": {
            "image/png": "[encoded data removed]",
            "text/plain": [
              "<Figure size 432x288 with 1 Axes>"
            ]
          },
          "metadata": {
            "tags": [],
            "needs_background": "light"
          }
        }
      ]
    },
    {
      "cell_type": "code",
      "metadata": {
        "id": "PGvRV1oyoUlJ",
        "colab": {
          "base_uri": "https://localhost:8080/"
        },
        "outputId": "c47f3f74-d10f-4835-87bc-e499180a65af"
      },
      "source": [
        "np.median(np.array(data['clean_comment_text'].str.split().map(lambda x: len(x))))"
      ],
      "execution_count": null,
      "outputs": [
        {
          "output_type": "execute_result",
          "data": {
            "text/plain": [
              "18.0"
            ]
          },
          "metadata": {
            "tags": []
          },
          "execution_count": 20
        }
      ]
    },
    {
      "cell_type": "markdown",
      "metadata": {
        "id": "lUsXN6CxoXiD"
      },
      "source": [
        "# Tokenize/Pad Sequence"
      ]
    },
    {
      "cell_type": "code",
      "metadata": {
        "id": "NRAvv3t0foAm"
      },
      "source": [
        "# Tokenize to 10'000 words and pad to 128 words per comment\n",
        "\n",
        "tokenizer = Tokenizer(num_words=10000, oov_token=\"UNK\")\n",
        "tokenizer.fit_on_texts(data['clean_comment_text'])\n",
        "X = tokenizer.texts_to_sequences(data['clean_comment_text'])\n",
        "\n",
        "max_length = 128\n",
        "X = pad_sequences(X, max_length, truncating = 'post', padding='post')"
      ],
      "execution_count": null,
      "outputs": []
    },
    {
      "cell_type": "code",
      "metadata": {
        "id": "n8-qBxt2qP2a",
        "colab": {
          "base_uri": "https://localhost:8080/"
        },
        "outputId": "a441462c-973c-4ef5-a144-bab8fd8cecb8"
      },
      "source": [
        "num_words = len(tokenizer.word_index)\n",
        "print(f\"Number of unique words: {num_words}\")"
      ],
      "execution_count": null,
      "outputs": [
        {
          "output_type": "stream",
          "text": [
            "Number of unique words: 383916\n"
          ],
          "name": "stdout"
        }
      ]
    },
    {
      "cell_type": "code",
      "metadata": {
        "id": "NigCaj7mu1o9"
      },
      "source": [
        "Y = data[\"target\"]"
      ],
      "execution_count": null,
      "outputs": []
    },
    {
      "cell_type": "code",
      "metadata": {
        "id": "Kw5zFrfgH_Cj",
        "colab": {
          "base_uri": "https://localhost:8080/"
        },
        "outputId": "a8b77d20-e134-4052-d8a6-7df917d2ec9a"
      },
      "source": [
        "# Apply thresholding to Y\n",
        "Y[Y >= 0.5] = 1\n",
        "Y[Y < 0.5] = 0"
      ],
      "execution_count": null,
      "outputs": [
        {
          "output_type": "stream",
          "text": [
            "/usr/local/lib/python3.7/dist-packages/ipykernel_launcher.py:2: SettingWithCopyWarning: \n",
            "A value is trying to be set on a copy of a slice from a DataFrame\n",
            "\n",
            "See the caveats in the documentation: https://pandas.pydata.org/pandas-docs/stable/user_guide/indexing.html#returning-a-view-versus-a-copy\n",
            "  \n",
            "/usr/local/lib/python3.7/dist-packages/pandas/core/series.py:1021: SettingWithCopyWarning: \n",
            "A value is trying to be set on a copy of a slice from a DataFrame\n",
            "\n",
            "See the caveats in the documentation: https://pandas.pydata.org/pandas-docs/stable/user_guide/indexing.html#returning-a-view-versus-a-copy\n",
            "  self._where(~key, value, inplace=True)\n",
            "/usr/local/lib/python3.7/dist-packages/ipykernel_launcher.py:3: SettingWithCopyWarning: \n",
            "A value is trying to be set on a copy of a slice from a DataFrame\n",
            "\n",
            "See the caveats in the documentation: https://pandas.pydata.org/pandas-docs/stable/user_guide/indexing.html#returning-a-view-versus-a-copy\n",
            "  This is separate from the ipykernel package so we can avoid doing imports until\n",
            "/usr/local/lib/python3.7/dist-packages/pandas/core/series.py:1021: SettingWithCopyWarning: \n",
            "A value is trying to be set on a copy of a slice from a DataFrame\n",
            "\n",
            "See the caveats in the documentation: https://pandas.pydata.org/pandas-docs/stable/user_guide/indexing.html#returning-a-view-versus-a-copy\n",
            "  self._where(~key, value, inplace=True)\n"
          ],
          "name": "stderr"
        }
      ]
    },
    {
      "cell_type": "code",
      "metadata": {
        "id": "eoxKBLQPtnCO",
        "colab": {
          "base_uri": "https://localhost:8080/"
        },
        "outputId": "dce06d74-4852-461f-c65e-ae2a5dc042b2"
      },
      "source": [
        "print(X.shape)\n",
        "print(Y.shape)"
      ],
      "execution_count": null,
      "outputs": [
        {
          "output_type": "stream",
          "text": [
            "(600000, 128)\n",
            "(600000,)\n"
          ],
          "name": "stdout"
        }
      ]
    },
    {
      "cell_type": "markdown",
      "metadata": {
        "id": "BkOyVzVcqC6W"
      },
      "source": [
        "# Get Embedding for first Layer with GloVE pretrained model"
      ]
    },
    {
      "cell_type": "code",
      "metadata": {
        "id": "ar8Wz5MAqht3",
        "colab": {
          "base_uri": "https://localhost:8080/"
        },
        "outputId": "57d36739-eadf-410e-93f5-e4673e8412e5"
      },
      "source": [
        "!wget http://nlp.stanford.edu/data/glove.840B.300d.zip\n",
        "!unzip glove.840B.300d.zip"
      ],
      "execution_count": null,
      "outputs": [
        {
          "output_type": "stream",
          "text": [
            "--2021-07-11 15:06:27--  http://nlp.stanford.edu/data/glove.840B.300d.zip\n",
            "Resolving nlp.stanford.edu (nlp.stanford.edu)... 171.64.67.140\n",
            "Connecting to nlp.stanford.edu (nlp.stanford.edu)|171.64.67.140|:80... connected.\n",
            "HTTP request sent, awaiting response... 302 Found\n",
            "Location: https://nlp.stanford.edu/data/glove.840B.300d.zip [following]\n",
            "--2021-07-11 15:06:27--  https://nlp.stanford.edu/data/glove.840B.300d.zip\n",
            "Connecting to nlp.stanford.edu (nlp.stanford.edu)|171.64.67.140|:443... connected.\n",
            "HTTP request sent, awaiting response... 301 Moved Permanently\n",
            "Location: http://downloads.cs.stanford.edu/nlp/data/glove.840B.300d.zip [following]\n",
            "--2021-07-11 15:06:27--  http://downloads.cs.stanford.edu/nlp/data/glove.840B.300d.zip\n",
            "Resolving downloads.cs.stanford.edu (downloads.cs.stanford.edu)... 171.64.64.22\n",
            "Connecting to downloads.cs.stanford.edu (downloads.cs.stanford.edu)|171.64.64.22|:80... connected.\n",
            "HTTP request sent, awaiting response... 200 OK\n",
            "Length: 2176768927 (2.0G) [application/zip]\n",
            "Saving to: ‘glove.840B.300d.zip’\n",
            "\n",
            "glove.840B.300d.zip 100%[===================>]   2.03G  5.18MB/s    in 6m 51s  \n",
            "\n",
            "2021-07-11 15:13:18 (5.05 MB/s) - ‘glove.840B.300d.zip’ saved [2176768927/2176768927]\n",
            "\n",
            "Archive:  glove.840B.300d.zip\n",
            "  inflating: glove.840B.300d.txt     \n"
          ],
          "name": "stdout"
        }
      ]
    },
    {
      "cell_type": "code",
      "metadata": {
        "id": "LjsrsGFiszKh"
      },
      "source": [
        "EMBEDDING_FILES = ['glove.840B.300d.txt']"
      ],
      "execution_count": null,
      "outputs": []
    },
    {
      "cell_type": "code",
      "metadata": {
        "id": "I83hKfrZsuF3"
      },
      "source": [
        "def get_coefs(word, *arr):\n",
        "    return word, np.asarray(arr, dtype='float32')\n",
        "\n",
        "def load_embeddings(path):\n",
        "    with open(path) as f:\n",
        "        return dict(get_coefs(*line.strip().split(' ')) for line in f)"
      ],
      "execution_count": null,
      "outputs": []
    },
    {
      "cell_type": "code",
      "metadata": {
        "id": "Rk9AJ_RGsvqp"
      },
      "source": [
        "# Source: https://www.kaggle.com/christofhenkel/how-to-preprocessing-for-glove-part2-usage\n",
        "\n",
        "def build_matrix(word_index, path):\n",
        "    \"\"\"\n",
        "    path: a path that contains embedding matrix\n",
        "    word_index is a dict of the form ('apple': 123, 'banana': 349, etc)\n",
        "    \n",
        "    we will construct an embedding_matrix for the words in word_index\n",
        "    using pre-trained embedding word vectors from 'path'\n",
        "    \"\"\"\n",
        "    embedding_index = load_embeddings(path)\n",
        "    embedding_matrix = np.zeros((len(word_index) + 1, 300))\n",
        "    for word, i in word_index.items():\n",
        "        try:\n",
        "            embedding_matrix[i] = embedding_index[word]\n",
        "        except KeyError:\n",
        "            pass\n",
        "    return embedding_matrix"
      ],
      "execution_count": null,
      "outputs": []
    },
    {
      "cell_type": "code",
      "metadata": {
        "id": "1WAYtQYbswjV"
      },
      "source": [
        "embedding_matrix = np.concatenate(\n",
        "    [build_matrix(tokenizer.word_index, f) for f in EMBEDDING_FILES], axis=-1)"
      ],
      "execution_count": null,
      "outputs": []
    },
    {
      "cell_type": "markdown",
      "metadata": {
        "id": "ufVWNvhQB8D9"
      },
      "source": [
        "# Check for GPU Support"
      ]
    },
    {
      "cell_type": "code",
      "metadata": {
        "id": "9aaWw-nVwyVP",
        "colab": {
          "base_uri": "https://localhost:8080/",
          "height": 35
        },
        "outputId": "ffdbcbca-07ea-461b-ffb0-9477577d0018"
      },
      "source": [
        "import tensorflow as tf\n",
        "tf.test.gpu_device_name()"
      ],
      "execution_count": null,
      "outputs": [
        {
          "output_type": "execute_result",
          "data": {
            "application/vnd.google.colaboratory.intrinsic+json": {
              "type": "string"
            },
            "text/plain": [
              "'/device:GPU:0'"
            ]
          },
          "metadata": {
            "tags": []
          },
          "execution_count": 30
        }
      ]
    },
    {
      "cell_type": "markdown",
      "metadata": {
        "id": "DTF4O-GZK19H"
      },
      "source": [
        "# Optional: Save/Load already preprocessed data"
      ]
    },
    {
      "cell_type": "markdown",
      "metadata": {
        "id": "kWsoIoDVMECg"
      },
      "source": [
        "## Save data"
      ]
    },
    {
      "cell_type": "code",
      "metadata": {
        "id": "KqEvxSpEK7DW"
      },
      "source": [
        "pickle.dump(X, open( \"X.pkl\", \"wb\" ))\n",
        "pickle.dump(Y, open( \"Y.pkl\", \"wb\" ))\n",
        "pickle.dump(embedding_matrix, open( \"embedding_matrix.pkl\", \"wb\" ))\n",
        "pickle.dump(tokenizer, open( \"tokenizer.pkl\", \"wb\" ))"
      ],
      "execution_count": null,
      "outputs": []
    },
    {
      "cell_type": "markdown",
      "metadata": {
        "id": "1xDuWdZpMIx7"
      },
      "source": [
        "## Load Data"
      ]
    },
    {
      "cell_type": "code",
      "metadata": {
        "id": "bwKwgr87MKrV"
      },
      "source": [
        "X = pickle.load( open( \"X.pkl\", \"rb\" ) )\n",
        "Y = pickle.load( open( \"Y.pkl\", \"rb\" ) )\n",
        "embedding_matrix = pickle.load( open( \"embedding_matrix.pkl\", \"rb\" ) )\n",
        "tokenizer = pickle.load( open( \"tokenizer.pkl\", \"rb\" ) )"
      ],
      "execution_count": null,
      "outputs": []
    },
    {
      "cell_type": "markdown",
      "metadata": {
        "id": "-B1-qbSgE50N"
      },
      "source": [
        "# Do the train/test split"
      ]
    },
    {
      "cell_type": "code",
      "metadata": {
        "id": "rCRc-lrmhK1h",
        "colab": {
          "base_uri": "https://localhost:8080/"
        },
        "outputId": "1a155573-bc2e-4c96-c62f-e5af056a8c3d"
      },
      "source": [
        "# Train Test split for training/testing\n",
        "\n",
        "X_train, X_test, Y_train, Y_test = train_test_split(X, Y, test_size=0.1)\n",
        "\n",
        "print(\"X_train shape:\" + str(X_train.shape))\n",
        "print(\"Y_train shape:\" + str(Y_train.shape))\n",
        "print(\"------------------------------\")\n",
        "print(\"X_test shape:\" + str(X_test.shape))\n",
        "print(\"Y_test shape:\" + str(Y_test.shape))"
      ],
      "execution_count": null,
      "outputs": [
        {
          "output_type": "stream",
          "text": [
            "X_train shape:(540000, 128)\n",
            "Y_train shape:(540000,)\n",
            "------------------------------\n",
            "X_test shape:(60000, 128)\n",
            "Y_test shape:(60000,)\n"
          ],
          "name": "stdout"
        }
      ]
    },
    {
      "cell_type": "code",
      "metadata": {
        "id": "vN6yTA9YKxRQ"
      },
      "source": [
        "from keras import backend as K\n",
        "\n",
        "def recall_m(y_true, y_pred):\n",
        "    true_positives = K.sum(K.round(K.clip(y_true * y_pred, 0, 1)))\n",
        "    possible_positives = K.sum(K.round(K.clip(y_true, 0, 1)))\n",
        "    recall = true_positives / (possible_positives + K.epsilon())\n",
        "    return recall\n",
        "\n",
        "def precision_m(y_true, y_pred):\n",
        "    true_positives = K.sum(K.round(K.clip(y_true * y_pred, 0, 1)))\n",
        "    predicted_positives = K.sum(K.round(K.clip(y_pred, 0, 1)))\n",
        "    precision = true_positives / (predicted_positives + K.epsilon())\n",
        "    return precision\n",
        "\n",
        "def f1_m(y_true, y_pred):\n",
        "    precision = precision_m(y_true, y_pred)\n",
        "    recall = recall_m(y_true, y_pred)\n",
        "    return 2*((precision*recall)/(precision+recall+K.epsilon()))"
      ],
      "execution_count": null,
      "outputs": []
    },
    {
      "cell_type": "markdown",
      "metadata": {
        "id": "8XLuMJ8msqJI"
      },
      "source": [
        "# Define LSTM Model (Baseline 1)"
      ]
    },
    {
      "cell_type": "code",
      "metadata": {
        "id": "oCG-jD5QhWij",
        "colab": {
          "base_uri": "https://localhost:8080/"
        },
        "outputId": "e43a93eb-7faf-4e31-cb42-af2d3230f2de"
      },
      "source": [
        "# Define Keras LSTM Model with embedding layer\n",
        "\n",
        "model = Sequential()\n",
        "model.add(Embedding(*embedding_matrix.shape, weights = [embedding_matrix], input_length = max_length, trainable = False))\n",
        "model.add(LSTM(128, return_sequences = True))\n",
        "model.add(GlobalAveragePooling1D())\n",
        "model.add(Dense(1, activation='sigmoid'))\n",
        "model.summary()"
      ],
      "execution_count": null,
      "outputs": [
        {
          "output_type": "stream",
          "text": [
            "Model: \"sequential_1\"\n",
            "_________________________________________________________________\n",
            "Layer (type)                 Output Shape              Param #   \n",
            "=================================================================\n",
            "embedding_1 (Embedding)      (None, 128, 300)          115175100 \n",
            "_________________________________________________________________\n",
            "lstm_1 (LSTM)                (None, 128, 128)          219648    \n",
            "_________________________________________________________________\n",
            "global_average_pooling1d_1 ( (None, 128)               0         \n",
            "_________________________________________________________________\n",
            "dense_1 (Dense)              (None, 1)                 129       \n",
            "=================================================================\n",
            "Total params: 115,394,877\n",
            "Trainable params: 219,777\n",
            "Non-trainable params: 115,175,100\n",
            "_________________________________________________________________\n"
          ],
          "name": "stdout"
        }
      ]
    },
    {
      "cell_type": "code",
      "metadata": {
        "id": "__NrU2PEhyVw",
        "colab": {
          "base_uri": "https://localhost:8080/"
        },
        "outputId": "c613d089-2819-4b9c-d55d-179833e7499a"
      },
      "source": [
        "model.compile(optimizer = 'adam', loss = 'binary_crossentropy', metrics=['accuracy', tf.keras.metrics.Recall(), tf.keras.metrics.AUC(), f1_m,precision_m, recall_m])\n",
        "\n",
        "batch_size = 512\n",
        "epochs = 5\n",
        "\n",
        "model.fit(X_train, Y_train, epochs=epochs, batch_size = batch_size, validation_data = (X_test, Y_test))"
      ],
      "execution_count": null,
      "outputs": [
        {
          "output_type": "stream",
          "text": [
            "Epoch 1/5\n",
            "1055/1055 [==============================] - 95s 54ms/step - loss: 0.2312 - accuracy: 0.9229 - recall_3: 0.1210 - auc_3: 0.6790 - f1_m: 0.2634 - precision_m: 0.4225 - recall_m: 0.2139 - val_loss: 0.1526 - val_accuracy: 0.9436 - val_recall_3: 0.3537 - val_auc_3: 0.8922 - val_f1_m: 0.5084 - val_precision_m: 0.7983 - val_recall_m: 0.3771\n",
            "Epoch 2/5\n",
            "1055/1055 [==============================] - 57s 54ms/step - loss: 0.1468 - accuracy: 0.9459 - recall_3: 0.3753 - auc_3: 0.9013 - f1_m: 0.5825 - precision_m: 0.7617 - recall_m: 0.4802 - val_loss: 0.1478 - val_accuracy: 0.9447 - val_recall_3: 0.4181 - val_auc_3: 0.9152 - val_f1_m: 0.6073 - val_precision_m: 0.6865 - val_recall_m: 0.5498\n",
            "Epoch 3/5\n",
            "1055/1055 [==============================] - 57s 54ms/step - loss: 0.1409 - accuracy: 0.9474 - recall_3: 0.4291 - auc_3: 0.9183 - f1_m: 0.6032 - precision_m: 0.7727 - recall_m: 0.5036 - val_loss: 0.1413 - val_accuracy: 0.9463 - val_recall_3: 0.4465 - val_auc_3: 0.9241 - val_f1_m: 0.5814 - val_precision_m: 0.7431 - val_recall_m: 0.4833\n",
            "Epoch 4/5\n",
            "1055/1055 [==============================] - 56s 53ms/step - loss: 0.1353 - accuracy: 0.9497 - recall_3: 0.4524 - auc_3: 0.9258 - f1_m: 0.6210 - precision_m: 0.7783 - recall_m: 0.5252 - val_loss: 0.1461 - val_accuracy: 0.9448 - val_recall_3: 0.4651 - val_auc_3: 0.9294 - val_f1_m: 0.6184 - val_precision_m: 0.6773 - val_recall_m: 0.5743\n",
            "Epoch 5/5\n",
            "1055/1055 [==============================] - 57s 54ms/step - loss: 0.1304 - accuracy: 0.9508 - recall_3: 0.4705 - auc_3: 0.9306 - f1_m: 0.6351 - precision_m: 0.7817 - recall_m: 0.5428 - val_loss: 0.1439 - val_accuracy: 0.9474 - val_recall_3: 0.4798 - val_auc_3: 0.9333 - val_f1_m: 0.5813 - val_precision_m: 0.7701 - val_recall_m: 0.4724\n"
          ],
          "name": "stdout"
        },
        {
          "output_type": "execute_result",
          "data": {
            "text/plain": [
              "<keras.callbacks.History at 0x7efe109d7450>"
            ]
          },
          "metadata": {
            "tags": []
          },
          "execution_count": 38
        }
      ]
    },
    {
      "cell_type": "markdown",
      "metadata": {
        "id": "UgzZW-eHwg_a"
      },
      "source": [
        "# Define GRU Model (Baseline 2)"
      ]
    },
    {
      "cell_type": "code",
      "metadata": {
        "id": "0mrmiOy4wkL5",
        "colab": {
          "base_uri": "https://localhost:8080/"
        },
        "outputId": "30f720d0-846f-470b-84af-562b4ff0965c"
      },
      "source": [
        "model = Sequential()\n",
        "model.add(Embedding(*embedding_matrix.shape, weights = [embedding_matrix], input_length = max_length, trainable = False))\n",
        "model.add(GRU(128, return_sequences = True))\n",
        "model.add(GlobalAveragePooling1D())\n",
        "model.add(Dense(1, activation='sigmoid'))\n",
        "model.summary()"
      ],
      "execution_count": null,
      "outputs": [
        {
          "output_type": "stream",
          "text": [
            "Model: \"sequential_3\"\n",
            "_________________________________________________________________\n",
            "Layer (type)                 Output Shape              Param #   \n",
            "=================================================================\n",
            "embedding_4 (Embedding)      (None, 128, 300)          115175100 \n",
            "_________________________________________________________________\n",
            "gru_1 (GRU)                  (None, 128, 128)          165120    \n",
            "_________________________________________________________________\n",
            "global_average_pooling1d_4 ( (None, 128)               0         \n",
            "_________________________________________________________________\n",
            "dense_6 (Dense)              (None, 1)                 129       \n",
            "=================================================================\n",
            "Total params: 115,340,349\n",
            "Trainable params: 165,249\n",
            "Non-trainable params: 115,175,100\n",
            "_________________________________________________________________\n"
          ],
          "name": "stdout"
        }
      ]
    },
    {
      "cell_type": "code",
      "metadata": {
        "id": "N9SCFc7IyTVl",
        "colab": {
          "base_uri": "https://localhost:8080/"
        },
        "outputId": "98dc3041-9d9a-4ff6-b4f6-c5530ab09ce8"
      },
      "source": [
        "model.compile(optimizer = 'adam', loss = 'binary_crossentropy', metrics=['accuracy', tf.keras.metrics.Recall(), tf.keras.metrics.AUC(),f1_m,precision_m, recall_m])\n",
        "\n",
        "batch_size = 512\n",
        "epochs = 5\n",
        "\n",
        "model.fit(X_train, Y_train, epochs=epochs, batch_size = batch_size, validation_data = (X_test, Y_test))"
      ],
      "execution_count": null,
      "outputs": [
        {
          "output_type": "stream",
          "text": [
            "Epoch 1/5\n",
            "1055/1055 [==============================] - 56s 49ms/step - loss: 0.2116 - accuracy: 0.9344 - recall_6: 0.1894 - auc_6: 0.7345 - f1_m: 0.3789 - precision_m: 0.5590 - recall_m: 0.2990 - val_loss: 0.1472 - val_accuracy: 0.9455 - val_recall_6: 0.4061 - val_auc_6: 0.9066 - val_f1_m: 0.5785 - val_precision_m: 0.7341 - val_recall_m: 0.4820\n",
            "Epoch 2/5\n",
            "1055/1055 [==============================] - 51s 48ms/step - loss: 0.1448 - accuracy: 0.9466 - recall_6: 0.4220 - auc_6: 0.9129 - f1_m: 0.5888 - precision_m: 0.7725 - recall_m: 0.4836 - val_loss: 0.1414 - val_accuracy: 0.9464 - val_recall_6: 0.4456 - val_auc_6: 0.9229 - val_f1_m: 0.5821 - val_precision_m: 0.7441 - val_recall_m: 0.4830\n",
            "Epoch 3/5\n",
            "1055/1055 [==============================] - 51s 48ms/step - loss: 0.1377 - accuracy: 0.9486 - recall_6: 0.4522 - auc_6: 0.9253 - f1_m: 0.6072 - precision_m: 0.7817 - recall_m: 0.5060 - val_loss: 0.1422 - val_accuracy: 0.9462 - val_recall_6: 0.4656 - val_auc_6: 0.9296 - val_f1_m: 0.6095 - val_precision_m: 0.7080 - val_recall_m: 0.5402\n",
            "Epoch 4/5\n",
            "1055/1055 [==============================] - 51s 48ms/step - loss: 0.1344 - accuracy: 0.9491 - recall_6: 0.4704 - auc_6: 0.9310 - f1_m: 0.6187 - precision_m: 0.7822 - recall_m: 0.5195 - val_loss: 0.1396 - val_accuracy: 0.9471 - val_recall_6: 0.4797 - val_auc_6: 0.9341 - val_f1_m: 0.5928 - val_precision_m: 0.7439 - val_recall_m: 0.4977\n",
            "Epoch 5/5\n",
            "1055/1055 [==============================] - 51s 48ms/step - loss: 0.1282 - accuracy: 0.9516 - recall_6: 0.4836 - auc_6: 0.9351 - f1_m: 0.6429 - precision_m: 0.7898 - recall_m: 0.5486 - val_loss: 0.1449 - val_accuracy: 0.9462 - val_recall_6: 0.4908 - val_auc_6: 0.9373 - val_f1_m: 0.5531 - val_precision_m: 0.7924 - val_recall_m: 0.4285\n"
          ],
          "name": "stdout"
        },
        {
          "output_type": "execute_result",
          "data": {
            "text/plain": [
              "<keras.callbacks.History at 0x7efe0ea37610>"
            ]
          },
          "metadata": {
            "tags": []
          },
          "execution_count": 44
        }
      ]
    },
    {
      "cell_type": "markdown",
      "metadata": {
        "id": "X5Tmqn4J_6bC"
      },
      "source": [
        "# Define Advanced LSTM Model (Baseline 3)"
      ]
    },
    {
      "cell_type": "code",
      "metadata": {
        "id": "AIbNVnr3AOTs"
      },
      "source": [
        "# We use the Keras Functional API for that\n",
        "words = Input(shape=(max_length,))\n",
        "\n",
        "x = Embedding(*embedding_matrix.shape, weights = [embedding_matrix], input_length = max_length, trainable = False)(words)\n",
        "x = SpatialDropout1D(0.3)(x)\n",
        "x = Bidirectional(LSTM(128, return_sequences=True))(x)\n",
        "x = Bidirectional(LSTM(128, return_sequences=True))(x)\n",
        "\n",
        "hidden = concatenate([GlobalMaxPooling1D()(x),GlobalAveragePooling1D()(x),])\n",
        "hidden = add([hidden, Dense(512, activation='relu')(hidden)])\n",
        "hidden = add([hidden, Dense(512, activation='relu')(hidden)])\n",
        "\n",
        "result = Dense(1, activation='sigmoid')(hidden)\n",
        "\n",
        "model = Model(inputs=words, outputs=[result])\n",
        "\n",
        "model.compile(optimizer='adam', loss = 'binary_crossentropy', metrics=['accuracy', tf.keras.metrics.Recall(), tf.keras.metrics.AUC() , f1_m,precision_m, recall_m])"
      ],
      "execution_count": null,
      "outputs": []
    },
    {
      "cell_type": "code",
      "metadata": {
        "id": "kPfq1OtBMhav",
        "colab": {
          "base_uri": "https://localhost:8080/"
        },
        "outputId": "df6b62d5-4332-4555-df2c-e9b6603e6234"
      },
      "source": [
        "batch_size = 512\n",
        "epochs = 5\n",
        "\n",
        "model.fit(X_train, Y_train, epochs=epochs, batch_size = batch_size, validation_data = (X_test, Y_test))"
      ],
      "execution_count": null,
      "outputs": [
        {
          "output_type": "stream",
          "text": [
            "Epoch 1/5\n",
            "1055/1055 [==============================] - 214s 197ms/step - loss: 0.1907 - accuracy: 0.9341 - recall_7: 0.2042 - auc_7: 0.8022 - f1_m: 0.3893 - precision_m: 0.5961 - recall_m: 0.3031 - val_loss: 0.1459 - val_accuracy: 0.9449 - val_recall_7: 0.3980 - val_auc_7: 0.9128 - val_f1_m: 0.5872 - val_precision_m: 0.7115 - val_recall_m: 0.5045\n",
            "Epoch 2/5\n",
            "1055/1055 [==============================] - 178s 169ms/step - loss: 0.1476 - accuracy: 0.9449 - recall_7: 0.4136 - auc_7: 0.9175 - f1_m: 0.5725 - precision_m: 0.7615 - recall_m: 0.4664 - val_loss: 0.1473 - val_accuracy: 0.9438 - val_recall_7: 0.4391 - val_auc_7: 0.9248 - val_f1_m: 0.6202 - val_precision_m: 0.6584 - val_recall_m: 0.5920\n",
            "Epoch 3/5\n",
            "1055/1055 [==============================] - 179s 169ms/step - loss: 0.1394 - accuracy: 0.9473 - recall_7: 0.4478 - auc_7: 0.9268 - f1_m: 0.5951 - precision_m: 0.7628 - recall_m: 0.4961 - val_loss: 0.1388 - val_accuracy: 0.9467 - val_recall_7: 0.4588 - val_auc_7: 0.9305 - val_f1_m: 0.5662 - val_precision_m: 0.7780 - val_recall_m: 0.4498\n",
            "Epoch 4/5\n",
            "1055/1055 [==============================] - 179s 169ms/step - loss: 0.1367 - accuracy: 0.9484 - recall_7: 0.4620 - auc_7: 0.9316 - f1_m: 0.6091 - precision_m: 0.7775 - recall_m: 0.5088 - val_loss: 0.1418 - val_accuracy: 0.9453 - val_recall_7: 0.4724 - val_auc_7: 0.9343 - val_f1_m: 0.6352 - val_precision_m: 0.6674 - val_recall_m: 0.6116\n",
            "Epoch 5/5\n",
            "1055/1055 [==============================] - 179s 169ms/step - loss: 0.1317 - accuracy: 0.9500 - recall_7: 0.4770 - auc_7: 0.9352 - f1_m: 0.6246 - precision_m: 0.7793 - recall_m: 0.5287 - val_loss: 0.1371 - val_accuracy: 0.9468 - val_recall_7: 0.4846 - val_auc_7: 0.9373 - val_f1_m: 0.6163 - val_precision_m: 0.7099 - val_recall_m: 0.5498\n"
          ],
          "name": "stdout"
        },
        {
          "output_type": "execute_result",
          "data": {
            "text/plain": [
              "<keras.callbacks.History at 0x7efdfa4cc590>"
            ]
          },
          "metadata": {
            "tags": []
          },
          "execution_count": 46
        }
      ]
    },
    {
      "cell_type": "markdown",
      "metadata": {
        "id": "oWfd3mQANGzd"
      },
      "source": [
        "# Optional: Save/Load already trained model"
      ]
    },
    {
      "cell_type": "markdown",
      "metadata": {
        "id": "LvpEQ5ZmNM10"
      },
      "source": [
        "## Save model"
      ]
    },
    {
      "cell_type": "code",
      "metadata": {
        "id": "Lrloi3MNNLrt"
      },
      "source": [
        "pickle.dump(model, open( \"model.pkl\", \"wb\" ))"
      ],
      "execution_count": null,
      "outputs": []
    },
    {
      "cell_type": "markdown",
      "metadata": {
        "id": "ZpA-FomdNOxQ"
      },
      "source": [
        "## Load model"
      ]
    },
    {
      "cell_type": "code",
      "metadata": {
        "id": "dB33QVTcNRV3"
      },
      "source": [
        "model = pickle.load( open( \"model.pkl\", \"rb\" ) )"
      ],
      "execution_count": null,
      "outputs": []
    },
    {
      "cell_type": "markdown",
      "metadata": {
        "id": "O45jscRebn8C"
      },
      "source": [
        "# History Plots"
      ]
    },
    {
      "cell_type": "code",
      "metadata": {
        "id": "LOeyD7V0bqTr"
      },
      "source": [
        "import matplotlib.pyplot as plt\n",
        "history_dict = history.history\n",
        "loss_values = history_dict['loss']\n",
        "val_loss_values = history_dict['val_loss']\n",
        "epochs = range(1, len(loss_values) + 1)\n",
        "plt.plot(epochs, loss_values, 'bo', label='Training loss')\n",
        "plt.plot(epochs, val_loss_values, 'b', label='Validation loss')\n",
        "plt.title('Training and validation loss')\n",
        "plt.xlabel('Epochs')\n",
        "plt.ylabel('Loss')\n",
        "plt.legend()\n",
        "plt.show()\n",
        "\n",
        "plt.clf()\n",
        "acc = history_dict['acc']\n",
        "val_acc = history_dict['val_acc']\n",
        "plt.plot(epochs, acc, 'bo', label='Training acc')\n",
        "plt.plot(epochs, val_acc, 'b', label='Validation acc')\n",
        "plt.title('Training and validation accuracy')\n",
        "plt.xlabel('Epochs')\n",
        "plt.ylabel('Accuracy')\n",
        "plt.legend()\n",
        "plt.show()"
      ],
      "execution_count": null,
      "outputs": []
    },
    {
      "cell_type": "markdown",
      "metadata": {
        "id": "JYtPbTKI063S"
      },
      "source": [
        "# Predict custom text"
      ]
    },
    {
      "cell_type": "code",
      "metadata": {
        "id": "6drHLgOL1K5P"
      },
      "source": [
        "text = pd.DataFrame(index=[0], columns=[\"comment_text\"])\n",
        "text[\"comment_text\"] = \"oh silly\"\n",
        "\n",
        "text = text[\"comment_text\"].apply(clean_text)\n",
        "\n",
        "text = tokenizer.texts_to_sequences(text)\n",
        "text = pad_sequences(text, max_length, truncating = 'post', padding='post')\n",
        "\n",
        "score = model.predict(text)\n",
        "\n",
        "print(score)"
      ],
      "execution_count": null,
      "outputs": []
    },
    {
      "cell_type": "markdown",
      "metadata": {
        "id": "SYrOLjuIQtX5"
      },
      "source": [
        "# Predict Kaggle Test Set"
      ]
    },
    {
      "cell_type": "code",
      "metadata": {
        "id": "ur5qJgyBQxP0"
      },
      "source": [
        "# Read test data\n",
        "\n",
        "test = pd.read_csv(\"/content/test.csv\")\n",
        "\n",
        "test[\"clean_comment_text\"] = test['comment_text'].apply(clean_text)\n",
        "\n",
        "X_kaggle_test = tokenizer.texts_to_sequences(test[\"clean_comment_text\"])\n",
        "X_kaggle_test = pad_sequences(X_kaggle_test, max_length, truncating = 'post', padding='post')"
      ],
      "execution_count": null,
      "outputs": []
    },
    {
      "cell_type": "code",
      "metadata": {
        "id": "jmXdvc7dRh4n"
      },
      "source": [
        "kaggle_predict = model.predict(X_kaggle_test, batch_size=2048)"
      ],
      "execution_count": null,
      "outputs": []
    },
    {
      "cell_type": "code",
      "metadata": {
        "id": "KhQgh5baRviS"
      },
      "source": [
        "submission = pd.DataFrame.from_dict({\n",
        "    'id': test['id'],\n",
        "    'prediction': kaggle_predict.flatten()\n",
        " })\n",
        "\n",
        "submission.to_csv('submission.csv', index=False)"
      ],
      "execution_count": null,
      "outputs": []
    }
  ]
}